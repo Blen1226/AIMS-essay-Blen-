{
  "nbformat": 4,
  "nbformat_minor": 0,
  "metadata": {
    "colab": {
      "provenance": []
    },
    "kernelspec": {
      "name": "python3",
      "display_name": "Python 3"
    },
    "language_info": {
      "name": "python"
    }
  },
  "cells": [
    {
      "cell_type": "code",
      "source": [
        "from google.colab import drive\n",
        "drive.mount('/content/gdrive')"
      ],
      "metadata": {
        "colab": {
          "base_uri": "https://localhost:8080/"
        },
        "id": "6IDjS36pkUvO",
        "outputId": "bd263c8f-30c1-40b8-e560-dde82f8053f1"
      },
      "execution_count": 7,
      "outputs": [
        {
          "output_type": "stream",
          "name": "stdout",
          "text": [
            "Drive already mounted at /content/gdrive; to attempt to forcibly remount, call drive.mount(\"/content/gdrive\", force_remount=True).\n"
          ]
        }
      ]
    },
    {
      "cell_type": "code",
      "execution_count": 8,
      "metadata": {
        "colab": {
          "base_uri": "https://localhost:8080/"
        },
        "id": "TxPfjL982NV9",
        "outputId": "77bc8451-33f8-4bc8-b3c6-39f6be730963"
      },
      "outputs": [
        {
          "output_type": "stream",
          "name": "stdout",
          "text": [
            "Visited vertices: [0, 3, 2, 1, 5, 4]\n",
            "Tour length: 17234.6\n"
          ]
        }
      ],
      "source": [
        "# 0 = UK, 1 = , 2 =  3 = , 4 = , 5 = , \n",
        "\n",
        "import numpy as np\n",
        "import sys\n",
        "\n",
        "def nearest_neighbor(graph):\n",
        "    # Start with the first vertex in the graph\n",
        "    current_vertex = 0\n",
        "    # Create a list to hold the visited vertices\n",
        "    visited_vertices = [current_vertex]\n",
        "    # Create a list to hold the unvisited vertices\n",
        "    unvisited_vertices = list(range(1, len(graph)))\n",
        "    # Set the initial tour length to 0\n",
        "    tour_length = 0\n",
        "\n",
        "    # While there are unvisited vertices left\n",
        "    while unvisited_vertices:\n",
        "        # Find the nearest unvisited vertex\n",
        "        nearest_neighbor = min(unvisited_vertices, key=lambda x: graph[current_vertex][x])\n",
        "        # Add the nearest unvisited vertex to the visited vertices list\n",
        "        visited_vertices.append(nearest_neighbor)\n",
        "        # Remove the nearest unvisited vertex from the unvisited vertices list\n",
        "        unvisited_vertices.remove(nearest_neighbor)\n",
        "        # Add the distance from the current vertex to the nearest unvisited vertex to the tour length\n",
        "        tour_length += graph[current_vertex][nearest_neighbor]\n",
        "        # Set the current vertex to be the nearest unvisited vertex\n",
        "        current_vertex = nearest_neighbor\n",
        "\n",
        "    # Add the distance from the last visited vertex back to the first visited vertex to complete the cycle\n",
        "    tour_length += graph[visited_vertices[-1]][visited_vertices[0]]\n",
        "\n",
        "    # Return the visited vertices in the order they were visited and the length of the tour\n",
        "    return visited_vertices, tour_length\n",
        "\n",
        "# Test the algorithm on a small graph\n",
        "graph = np.array([[-1, 3299, 4772.8, 2803, 8276.6, 6299], \n",
        "    [3299, -1, 918, 2852, 2701, 2201], \n",
        "    [4772.8, 918, -1, 1016, 3098.16, 2238.4], \n",
        "    [2803, 2852, 1016, -1, 3981, 3236],\n",
        "    [8276.6, 2701, 3098.16, 3981, -1, 2020],\n",
        "    [6299, 2201, 2238.4, 3236, 2020, -1]\n",
        "])\n",
        "visited_vertices, tour_length = nearest_neighbor(graph)\n",
        "print(\"Visited vertices:\", visited_vertices)\n",
        "print(\"Tour length:\", tour_length)\n"
      ]
    },
    {
      "cell_type": "markdown",
      "source": [
        "The above python code has the same step with solving TSP using greedy algorithm(I use this method to solve the problem mathematically). But this algorithm has some limitation. The first one is sometimes give us incorrect result and not capable to solve a problem which has large number of nodes and edges. so, the value may not give us correct shortest distance... "
      ],
      "metadata": {
        "id": "AWutzplC5m7i"
      }
    },
    {
      "cell_type": "code",
      "source": [
        "#This code will find the shortest distance from UK to UK after finding all possible \n",
        "#route and calculating the total distace if the input is the distance matrix. The output are the shortest distance and the path.\n",
        "import itertools\n",
        "import pandas as pd\n",
        "\n",
        "#df = pd.read_csv('distances.csv')\n",
        "\n",
        "# Define the distance matrix for a 6-node complete graph\n",
        "distances = [\n",
        "    [-1, 3299, 4772.8, 2803, 8276.6, 6299], \n",
        "    [3299, -1, 918, 2852, 2701, 2201], \n",
        "    [4772.8, 918, -1, 1016, 3098.16, 2238.4], \n",
        "    [2803, 2852, 1016, -1, 3981, 3236],\n",
        "    [8276.6, 2701, 3098.16, 3981, -1, 2020],\n",
        "    [6299, 2201, 2238.4, 3236, 2020, -1]\n",
        "]\n",
        "\n",
        "n = len(distances)\n",
        "min_distance = float(\"inf\")\n",
        "min_path = None\n",
        "\n",
        "# Generate all possible permutations of node indices except for the starting node (0)\n",
        "for path in itertools.permutations(range(1, n)):\n",
        "    # Add the starting node (0) to the beginning and end of the path\n",
        "    path = (0,) + path + (0,)\n",
        "    #print(path)\n",
        "\n",
        "    # Compute the total distance of the path\n",
        "    distance = 0\n",
        "    for i in range(1, n + 1):\n",
        "        distance += distances[path[i - 1]][path[i]]\n",
        "        #print(distance)\n",
        " # Update the minimum distance and path if the current path is shorter\n",
        "    if distance < min_distance:\n",
        "        min_distance = distance\n",
        "        min_path = path\n",
        "        # Print the minimum distance and path\n",
        "print()\n",
        "print(\"Minimum distance:\", min_distance)\n",
        "print(\"Minimum path:\", min_path)"
      ],
      "metadata": {
        "colab": {
          "base_uri": "https://localhost:8080/"
        },
        "id": "74xi-P7p9wGu",
        "outputId": "07f51d32-634d-4fc7-dfa8-0f775fd53d82"
      },
      "execution_count": 9,
      "outputs": [
        {
          "output_type": "stream",
          "name": "stdout",
          "text": [
            "\n",
            "Minimum distance: 14077.4\n",
            "Minimum path: (0, 1, 4, 5, 2, 3, 0)\n"
          ]
        }
      ]
    },
    {
      "cell_type": "code",
      "source": [
        "#This code has the same result with above code but the input is the distance matrix in the form of csv file.\n",
        "import itertools\n",
        "import pandas as pd\n",
        "\n",
        "# Load the distance matrix from a CSV file\n",
        "distances_df = pd.read_csv('/content/gdrive/My Drive/Colab Notebooks/blen2.csv', index_col=0, header=None)\n",
        "# Convert the DataFrame to a 2D list\n",
        "distances = distances_df.values.tolist()\n",
        "\n",
        "n = len(distances)\n",
        "min_distance = float(\"inf\")\n",
        "min_path = None\n",
        "\n",
        "# Generate all possible permutations of node indices except for the starting node (0)\n",
        "for path in itertools.permutations(range(1, n)):\n",
        "    # Add the starting node (0) to the beginning and end of the path\n",
        "    path = (0,) + path + (0,)\n",
        "    #print(path)\n",
        "\n",
        "    # Compute the total distance of the path\n",
        "    distance = 0\n",
        "    for i in range(1, n + 1):\n",
        "        distance += distances[path[i - 1]][path[i]]\n",
        "    # Update the minimum distance and path if the current path is shorter\n",
        "    if distance < min_distance:\n",
        "        min_distance = distance\n",
        "        min_path = path\n",
        "\n",
        "# Print the minimum distance and path\n",
        "print()\n",
        "print(\"Minimum distance:\", min_distance)\n",
        "print(\"Minimum path:\", min_path)\n"
      ],
      "metadata": {
        "id": "Vo1t1ixjun-d",
        "colab": {
          "base_uri": "https://localhost:8080/"
        },
        "outputId": "af590d73-c9a8-48cf-9c26-c2ba8fc7f62d"
      },
      "execution_count": 10,
      "outputs": [
        {
          "output_type": "stream",
          "name": "stdout",
          "text": [
            "\n",
            "Minimum distance: 14077.4\n",
            "Minimum path: (0, 1, 4, 5, 2, 3, 0)\n"
          ]
        }
      ]
    },
    {
      "cell_type": "code",
      "source": [],
      "metadata": {
        "id": "DdRfHza3uoCn"
      },
      "execution_count": null,
      "outputs": []
    },
    {
      "cell_type": "code",
      "source": [],
      "metadata": {
        "id": "COZEJCJflVhO"
      },
      "execution_count": null,
      "outputs": []
    },
    {
      "cell_type": "code",
      "source": [],
      "metadata": {
        "id": "rlMxfceuvt6o"
      },
      "execution_count": null,
      "outputs": []
    }
  ]
}